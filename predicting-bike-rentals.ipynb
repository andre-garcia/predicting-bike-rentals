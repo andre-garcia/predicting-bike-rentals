{
 "cells": [
  {
   "cell_type": "markdown",
   "metadata": {
    "collapsed": true
   },
   "source": [
    "# Predicting bike rentals with decision trees and random forest"
   ]
  },
  {
   "cell_type": "code",
   "execution_count": 1,
   "metadata": {},
   "outputs": [],
   "source": [
    "# importing relevant libraries\n",
    "\n",
    "import pandas as pd\n",
    "import numpy as np\n",
    "import matplotlib.pyplot as plt\n",
    "%matplotlib inline\n",
    "from sklearn.metrics import mean_squared_error\n",
    "from sklearn.model_selection import cross_val_score, KFold\n",
    "from sklearn.linear_model import LinearRegression\n"
   ]
  },
  {
   "cell_type": "markdown",
   "metadata": {},
   "source": [
    "### Introduction"
   ]
  },
  {
   "cell_type": "markdown",
   "metadata": {},
   "source": [
    "The goal of this project is to predict bike rentals using decision trees and random forest algorithms. We are going to use data from a bicycle sharing system to predict the total number of bikes rented in a given hour of a specific day."
   ]
  },
  {
   "cell_type": "markdown",
   "metadata": {},
   "source": [
    "This is an expansion of a guided project from the **Data Scientist in Python** career path in Dataquest. Hadi Fanaee-T at the University of Porto compiled this dataset using data from Capital Bikeshare, a bicycle sharing system that serves the metropolitan area of Washington DC, together with weather and holiday data from other sources. It can be downloaded from http://archive.ics.uci.edu/ml/datasets/Bike+Sharing+Dataset"
   ]
  },
  {
   "cell_type": "markdown",
   "metadata": {},
   "source": [
    "### Data exploration and preparation"
   ]
  },
  {
   "cell_type": "markdown",
   "metadata": {},
   "source": [
    "Let's start by reading in the data and having a first look at it. "
   ]
  },
  {
   "cell_type": "code",
   "execution_count": 2,
   "metadata": {},
   "outputs": [],
   "source": [
    "bike_rentals = pd.read_csv('bike_rental_hour.csv')"
   ]
  },
  {
   "cell_type": "code",
   "execution_count": 3,
   "metadata": {},
   "outputs": [
    {
     "data": {
      "text/html": [
       "<div>\n",
       "<style scoped>\n",
       "    .dataframe tbody tr th:only-of-type {\n",
       "        vertical-align: middle;\n",
       "    }\n",
       "\n",
       "    .dataframe tbody tr th {\n",
       "        vertical-align: top;\n",
       "    }\n",
       "\n",
       "    .dataframe thead th {\n",
       "        text-align: right;\n",
       "    }\n",
       "</style>\n",
       "<table border=\"1\" class=\"dataframe\">\n",
       "  <thead>\n",
       "    <tr style=\"text-align: right;\">\n",
       "      <th></th>\n",
       "      <th>instant</th>\n",
       "      <th>dteday</th>\n",
       "      <th>season</th>\n",
       "      <th>yr</th>\n",
       "      <th>mnth</th>\n",
       "      <th>hr</th>\n",
       "      <th>holiday</th>\n",
       "      <th>weekday</th>\n",
       "      <th>workingday</th>\n",
       "      <th>weathersit</th>\n",
       "      <th>temp</th>\n",
       "      <th>atemp</th>\n",
       "      <th>hum</th>\n",
       "      <th>windspeed</th>\n",
       "      <th>casual</th>\n",
       "      <th>registered</th>\n",
       "      <th>cnt</th>\n",
       "    </tr>\n",
       "  </thead>\n",
       "  <tbody>\n",
       "    <tr>\n",
       "      <td>0</td>\n",
       "      <td>1</td>\n",
       "      <td>2011-01-01</td>\n",
       "      <td>1</td>\n",
       "      <td>0</td>\n",
       "      <td>1</td>\n",
       "      <td>0</td>\n",
       "      <td>0</td>\n",
       "      <td>6</td>\n",
       "      <td>0</td>\n",
       "      <td>1</td>\n",
       "      <td>0.24</td>\n",
       "      <td>0.2879</td>\n",
       "      <td>0.81</td>\n",
       "      <td>0.0</td>\n",
       "      <td>3</td>\n",
       "      <td>13</td>\n",
       "      <td>16</td>\n",
       "    </tr>\n",
       "    <tr>\n",
       "      <td>1</td>\n",
       "      <td>2</td>\n",
       "      <td>2011-01-01</td>\n",
       "      <td>1</td>\n",
       "      <td>0</td>\n",
       "      <td>1</td>\n",
       "      <td>1</td>\n",
       "      <td>0</td>\n",
       "      <td>6</td>\n",
       "      <td>0</td>\n",
       "      <td>1</td>\n",
       "      <td>0.22</td>\n",
       "      <td>0.2727</td>\n",
       "      <td>0.80</td>\n",
       "      <td>0.0</td>\n",
       "      <td>8</td>\n",
       "      <td>32</td>\n",
       "      <td>40</td>\n",
       "    </tr>\n",
       "    <tr>\n",
       "      <td>2</td>\n",
       "      <td>3</td>\n",
       "      <td>2011-01-01</td>\n",
       "      <td>1</td>\n",
       "      <td>0</td>\n",
       "      <td>1</td>\n",
       "      <td>2</td>\n",
       "      <td>0</td>\n",
       "      <td>6</td>\n",
       "      <td>0</td>\n",
       "      <td>1</td>\n",
       "      <td>0.22</td>\n",
       "      <td>0.2727</td>\n",
       "      <td>0.80</td>\n",
       "      <td>0.0</td>\n",
       "      <td>5</td>\n",
       "      <td>27</td>\n",
       "      <td>32</td>\n",
       "    </tr>\n",
       "    <tr>\n",
       "      <td>3</td>\n",
       "      <td>4</td>\n",
       "      <td>2011-01-01</td>\n",
       "      <td>1</td>\n",
       "      <td>0</td>\n",
       "      <td>1</td>\n",
       "      <td>3</td>\n",
       "      <td>0</td>\n",
       "      <td>6</td>\n",
       "      <td>0</td>\n",
       "      <td>1</td>\n",
       "      <td>0.24</td>\n",
       "      <td>0.2879</td>\n",
       "      <td>0.75</td>\n",
       "      <td>0.0</td>\n",
       "      <td>3</td>\n",
       "      <td>10</td>\n",
       "      <td>13</td>\n",
       "    </tr>\n",
       "    <tr>\n",
       "      <td>4</td>\n",
       "      <td>5</td>\n",
       "      <td>2011-01-01</td>\n",
       "      <td>1</td>\n",
       "      <td>0</td>\n",
       "      <td>1</td>\n",
       "      <td>4</td>\n",
       "      <td>0</td>\n",
       "      <td>6</td>\n",
       "      <td>0</td>\n",
       "      <td>1</td>\n",
       "      <td>0.24</td>\n",
       "      <td>0.2879</td>\n",
       "      <td>0.75</td>\n",
       "      <td>0.0</td>\n",
       "      <td>0</td>\n",
       "      <td>1</td>\n",
       "      <td>1</td>\n",
       "    </tr>\n",
       "  </tbody>\n",
       "</table>\n",
       "</div>"
      ],
      "text/plain": [
       "   instant      dteday  season  yr  mnth  hr  holiday  weekday  workingday  \\\n",
       "0        1  2011-01-01       1   0     1   0        0        6           0   \n",
       "1        2  2011-01-01       1   0     1   1        0        6           0   \n",
       "2        3  2011-01-01       1   0     1   2        0        6           0   \n",
       "3        4  2011-01-01       1   0     1   3        0        6           0   \n",
       "4        5  2011-01-01       1   0     1   4        0        6           0   \n",
       "\n",
       "   weathersit  temp   atemp   hum  windspeed  casual  registered  cnt  \n",
       "0           1  0.24  0.2879  0.81        0.0       3          13   16  \n",
       "1           1  0.22  0.2727  0.80        0.0       8          32   40  \n",
       "2           1  0.22  0.2727  0.80        0.0       5          27   32  \n",
       "3           1  0.24  0.2879  0.75        0.0       3          10   13  \n",
       "4           1  0.24  0.2879  0.75        0.0       0           1    1  "
      ]
     },
     "execution_count": 3,
     "metadata": {},
     "output_type": "execute_result"
    }
   ],
   "source": [
    "bike_rentals.head()"
   ]
  },
  {
   "cell_type": "markdown",
   "metadata": {},
   "source": [
    "According to the dataset description, each row represents the number of bike rentals for a single hour of a single day (`cnt` column). "
   ]
  },
  {
   "cell_type": "code",
   "execution_count": 4,
   "metadata": {},
   "outputs": [
    {
     "name": "stdout",
     "output_type": "stream",
     "text": [
      "<class 'pandas.core.frame.DataFrame'>\n",
      "RangeIndex: 17379 entries, 0 to 17378\n",
      "Data columns (total 17 columns):\n",
      "instant       17379 non-null int64\n",
      "dteday        17379 non-null object\n",
      "season        17379 non-null int64\n",
      "yr            17379 non-null int64\n",
      "mnth          17379 non-null int64\n",
      "hr            17379 non-null int64\n",
      "holiday       17379 non-null int64\n",
      "weekday       17379 non-null int64\n",
      "workingday    17379 non-null int64\n",
      "weathersit    17379 non-null int64\n",
      "temp          17379 non-null float64\n",
      "atemp         17379 non-null float64\n",
      "hum           17379 non-null float64\n",
      "windspeed     17379 non-null float64\n",
      "casual        17379 non-null int64\n",
      "registered    17379 non-null int64\n",
      "cnt           17379 non-null int64\n",
      "dtypes: float64(4), int64(12), object(1)\n",
      "memory usage: 2.3+ MB\n"
     ]
    }
   ],
   "source": [
    "bike_rentals.info()"
   ]
  },
  {
   "cell_type": "markdown",
   "metadata": {},
   "source": [
    "Here is the columns description from the link above: \n",
    "\n",
    "- instant: record index\n",
    "- dteday : date\n",
    "- season : season (1:winter, 2:spring, 3:summer, 4:fall)\n",
    "- yr : year (0: 2011, 1:2012)\n",
    "- mnth : month ( 1 to 12)\n",
    "- hr : hour (0 to 23)\n",
    "- holiday : weather day is holiday or not (extracted from [Web Link])\n",
    "- weekday : day of the week\n",
    "- workingday : if day is neither weekend nor holiday is 1, otherwise is 0.\n",
    "+ weathersit :\n",
    "- 1: Clear, Few clouds, Partly cloudy, Partly cloudy\n",
    "- 2: Mist + Cloudy, Mist + Broken clouds, Mist + Few clouds, Mist\n",
    "- 3: Light Snow, Light Rain + Thunderstorm + Scattered clouds, Light Rain + Scattered clouds\n",
    "- 4: Heavy Rain + Ice Pallets + Thunderstorm + Mist, Snow + Fog\n",
    "- temp : Normalized temperature in Celsius. The values are derived via (t-t_min)/(t_max-t_min), t_min=-8, t_max=+39 (only in hourly scale)\n",
    "- atemp: Normalized feeling temperature in Celsius. The values are derived via (t-t_min)/(t_max-t_min), t_min=-16, t_max=+50 (only in hourly scale)\n",
    "- hum: Normalized humidity. The values are divided to 100 (max)\n",
    "- windspeed: Normalized wind speed. The values are divided to 67 (max)\n",
    "- casual: count of casual users\n",
    "- registered: count of registered users\n",
    "- cnt: count of total rental bikes including both casual and registered"
   ]
  },
  {
   "cell_type": "markdown",
   "metadata": {},
   "source": [
    "Our target is the `cnt` (for \"count\") variable. That is, the idea is to predict the `cnt` column using data from all the other columns except for `casual` and `registered`, since these two can also be seen as composing elements of our target variable of `cnt`, so we must exclude them. "
   ]
  },
  {
   "cell_type": "markdown",
   "metadata": {},
   "source": [
    "Let's start by having a quick look at the distribution of values of the `cnt` column."
   ]
  },
  {
   "cell_type": "code",
   "execution_count": 5,
   "metadata": {},
   "outputs": [
    {
     "data": {
      "text/plain": [
       "([<matplotlib.axis.XTick at 0x254a974c248>,\n",
       "  <matplotlib.axis.XTick at 0x254a973e7c8>,\n",
       "  <matplotlib.axis.XTick at 0x254a973e348>,\n",
       "  <matplotlib.axis.XTick at 0x254a97b2388>,\n",
       "  <matplotlib.axis.XTick at 0x254a97b2ac8>,\n",
       "  <matplotlib.axis.XTick at 0x254a97b5308>,\n",
       "  <matplotlib.axis.XTick at 0x254a97b5bc8>,\n",
       "  <matplotlib.axis.XTick at 0x254a97b94c8>,\n",
       "  <matplotlib.axis.XTick at 0x254a97b9e08>,\n",
       "  <matplotlib.axis.XTick at 0x254a97bd8c8>],\n",
       " <a list of 10 Text xticklabel objects>)"
      ]
     },
     "execution_count": 5,
     "metadata": {},
     "output_type": "execute_result"
    },
    {
     "data": {
      "image/png": "[encoded data removed]",
      "text/plain": [
       "<Figure size 432x288 with 1 Axes>"
      ]
     },
     "metadata": {
      "needs_background": "light"
     },
     "output_type": "display_data"
    }
   ],
   "source": [
    "bike_rentals['cnt'].hist(bins=10)\n",
    "plt.xlabel('cnt')\n",
    "plt.ylabel('n. of rows')\n",
    "plt.xticks(ticks=range(0, 1000, 100))\n"
   ]
  },
  {
   "cell_type": "markdown",
   "metadata": {},
   "source": [
    "It seems most days have a user count of less than 200, although some days it can reach close to 1000. "
   ]
  },
  {
   "cell_type": "code",
   "execution_count": 6,
   "metadata": {},
   "outputs": [
    {
     "name": "stdout",
     "output_type": "stream",
     "text": [
      "First row is 2011-01-01 and the last one: 2012-12-31\n"
     ]
    }
   ],
   "source": [
    "print('First row is', bike_rentals['dteday'].iloc[0], 'and the last one:', bike_rentals['dteday'].iloc[-1])"
   ]
  },
  {
   "cell_type": "markdown",
   "metadata": {},
   "source": [
    "We can also see that the data spans two entire years - 2011 and 2012. "
   ]
  },
  {
   "cell_type": "code",
   "execution_count": 7,
   "metadata": {},
   "outputs": [
    {
     "data": {
      "text/plain": [
       "Text(2012-06-01, 100, '2012')"
      ]
     },
     "execution_count": 7,
     "metadata": {},
     "output_type": "execute_result"
    },
    {
     "data": {
      "image/png": "[encoded data removed]",
      "text/plain": [
       "<Figure size 432x288 with 1 Axes>"
      ]
     },
     "metadata": {
      "needs_background": "light"
     },
     "output_type": "display_data"
    }
   ],
   "source": [
    "plt.plot(bike_rentals['dteday'], bike_rentals['cnt'])\n",
    "plt.title('Washington DC bike share users per day')\n",
    "plt.axvline('2012-01-01', color='red')\n",
    "plt.xticks(ticks=['2011-01-01', '2011-06-21',\n",
    "                  '2012-01-01', '2012-06-21'],\n",
    "           labels=['January 1st', 'June 21st',\n",
    "                   'January 1st', 'June 21st'])\n",
    "plt.ylabel('User count')\n",
    "plt.text('2011-06-01', 100, '2011', color='black', fontsize=16)\n",
    "plt.text('2012-06-01', 100, '2012', color='black', fontsize=16)\n"
   ]
  },
  {
   "cell_type": "markdown",
   "metadata": {},
   "source": [
    "From a quick look at the data, we can see that there seems to be a seasonal aspect to it - we have less users in the winter and more in the warmer months. We can also see that the overall number of users seem to have grown from one year to the other."
   ]
  },
  {
   "cell_type": "markdown",
   "metadata": {},
   "source": [
    "Hopefully, our model can capture that seasonal dynamics and incorporate it in its predictions."
   ]
  },
  {
   "cell_type": "code",
   "execution_count": 8,
   "metadata": {},
   "outputs": [
    {
     "data": {
      "text/plain": [
       "instant       0.278379\n",
       "season        0.178056\n",
       "yr            0.250495\n",
       "mnth          0.120638\n",
       "hr            0.394071\n",
       "holiday      -0.030927\n",
       "weekday       0.026900\n",
       "workingday    0.030284\n",
       "weathersit   -0.142426\n",
       "temp          0.404772\n",
       "atemp         0.400929\n",
       "hum          -0.322911\n",
       "windspeed     0.093234\n",
       "casual        0.694564\n",
       "registered    0.972151\n",
       "cnt           1.000000\n",
       "Name: cnt, dtype: float64"
      ]
     },
     "execution_count": 8,
     "metadata": {},
     "output_type": "execute_result"
    }
   ],
   "source": [
    "bike_rentals.corr()['cnt']"
   ]
  },
  {
   "cell_type": "markdown",
   "metadata": {},
   "source": [
    "We could simplify the `hr` column by dividing it into categories. From the point of view of the machine learning models we want to build, there is not much difference between 5 pm and 6 pm. It's better if we group the hours according to time of the day, like \"morning\", \"afternoon\", \"evening\" and \"night\". "
   ]
  },
  {
   "cell_type": "markdown",
   "metadata": {},
   "source": [
    "Let's create a function that helps us tranform this feature. We'll add a new column called `time_label`. "
   ]
  },
  {
   "cell_type": "code",
   "execution_count": 9,
   "metadata": {},
   "outputs": [],
   "source": [
    "def assign_label(hour):\n",
    "    if 6 <= hour < 12:\n",
    "        return 1 # morning\n",
    "    if 12 <= hour < 18:\n",
    "        return 2 # afternoon\n",
    "    if 18 <= hour < 24:\n",
    "        return 3 # evening\n",
    "    if 0 <= hour < 6:\n",
    "        return 4 # night\n",
    "\n",
    "bike_rentals['time_label'] = bike_rentals['hr'].apply(assign_label)"
   ]
  },
  {
   "cell_type": "markdown",
   "metadata": {},
   "source": [
    "Before we go any further with the feature engineering, we should divide our data into a training and a test set. "
   ]
  },
  {
   "cell_type": "code",
   "execution_count": 10,
   "metadata": {},
   "outputs": [],
   "source": [
    "np.random.seed(42) # make sure our results can be reproduced\n",
    "train = bike_rentals.sample(frac=.8).copy() # 80 % of the data, randomly chosen, for training set\n",
    "test = bike_rentals.loc[~bike_rentals.index.isin(train.index)].copy() # the remaining 20 % of rows for the test set"
   ]
  },
  {
   "cell_type": "markdown",
   "metadata": {},
   "source": [
    "Now let's make a list with the features we are going to use to predict the rentals."
   ]
  },
  {
   "cell_type": "code",
   "execution_count": 11,
   "metadata": {},
   "outputs": [],
   "source": [
    "features = list(train.columns)"
   ]
  },
  {
   "cell_type": "code",
   "execution_count": 12,
   "metadata": {},
   "outputs": [
    {
     "data": {
      "text/plain": [
       "['instant',\n",
       " 'dteday',\n",
       " 'season',\n",
       " 'yr',\n",
       " 'mnth',\n",
       " 'hr',\n",
       " 'holiday',\n",
       " 'weekday',\n",
       " 'workingday',\n",
       " 'weathersit',\n",
       " 'temp',\n",
       " 'atemp',\n",
       " 'hum',\n",
       " 'windspeed',\n",
       " 'casual',\n",
       " 'registered',\n",
       " 'cnt',\n",
       " 'time_label']"
      ]
     },
     "execution_count": 12,
     "metadata": {},
     "output_type": "execute_result"
    }
   ],
   "source": [
    "features"
   ]
  },
  {
   "cell_type": "markdown",
   "metadata": {},
   "source": [
    "The exact day is not a relevant piece of information to predict our target variable. We already talked about a similar issue about the exact hour. Therefore, we'll exclude those columns variables from our features. Let's also remove the `instant` column which is just an index. "
   ]
  },
  {
   "cell_type": "code",
   "execution_count": 13,
   "metadata": {},
   "outputs": [],
   "source": [
    "to_remove = ['instant', 'casual', 'registered', 'dteday', 'hr', 'cnt']\n",
    "for f in to_remove:\n",
    "    features.remove(f)"
   ]
  },
  {
   "cell_type": "code",
   "execution_count": 14,
   "metadata": {},
   "outputs": [
    {
     "data": {
      "text/plain": [
       "['season',\n",
       " 'yr',\n",
       " 'mnth',\n",
       " 'holiday',\n",
       " 'weekday',\n",
       " 'workingday',\n",
       " 'weathersit',\n",
       " 'temp',\n",
       " 'atemp',\n",
       " 'hum',\n",
       " 'windspeed',\n",
       " 'time_label']"
      ]
     },
     "execution_count": 14,
     "metadata": {},
     "output_type": "execute_result"
    }
   ],
   "source": [
    "# check remaining features\n",
    "\n",
    "features"
   ]
  },
  {
   "cell_type": "code",
   "execution_count": 15,
   "metadata": {},
   "outputs": [],
   "source": [
    "# set our target column\n",
    "\n",
    "target = 'cnt'"
   ]
  },
  {
   "cell_type": "markdown",
   "metadata": {},
   "source": [
    "### Model building"
   ]
  },
  {
   "cell_type": "markdown",
   "metadata": {},
   "source": [
    "Our first model will be a simple linear regression that we can later use as a baseline for comparison."
   ]
  },
  {
   "cell_type": "code",
   "execution_count": 16,
   "metadata": {},
   "outputs": [],
   "source": [
    "lr = LinearRegression()"
   ]
  },
  {
   "cell_type": "code",
   "execution_count": 17,
   "metadata": {},
   "outputs": [
    {
     "data": {
      "text/plain": [
       "LinearRegression(copy_X=True, fit_intercept=True, n_jobs=None, normalize=False)"
      ]
     },
     "execution_count": 17,
     "metadata": {},
     "output_type": "execute_result"
    }
   ],
   "source": [
    "lr.fit(train[features], train[target])"
   ]
  },
  {
   "cell_type": "markdown",
   "metadata": {},
   "source": [
    "Let's try it on the test set. "
   ]
  },
  {
   "cell_type": "code",
   "execution_count": 18,
   "metadata": {},
   "outputs": [],
   "source": [
    "test_predictions = lr.predict(test[features])"
   ]
  },
  {
   "cell_type": "markdown",
   "metadata": {},
   "source": [
    "For the error metric, we'll use Mean Squared Error, since our target variable carries continuous numerical values. "
   ]
  },
  {
   "cell_type": "code",
   "execution_count": 19,
   "metadata": {},
   "outputs": [],
   "source": [
    "test_error = mean_squared_error(test_predictions, test['cnt'])"
   ]
  },
  {
   "cell_type": "code",
   "execution_count": 20,
   "metadata": {},
   "outputs": [
    {
     "data": {
      "text/plain": [
       "19567.179394914525"
      ]
     },
     "execution_count": 20,
     "metadata": {},
     "output_type": "execute_result"
    }
   ],
   "source": [
    "test_error"
   ]
  },
  {
   "cell_type": "markdown",
   "metadata": {},
   "source": [
    "Let's also use our model on the training set."
   ]
  },
  {
   "cell_type": "code",
   "execution_count": 21,
   "metadata": {},
   "outputs": [],
   "source": [
    "train_predictions = lr.predict(train[features])"
   ]
  },
  {
   "cell_type": "code",
   "execution_count": 22,
   "metadata": {},
   "outputs": [],
   "source": [
    "train_error = mean_squared_error(train_predictions, train['cnt'])"
   ]
  },
  {
   "cell_type": "code",
   "execution_count": 23,
   "metadata": {},
   "outputs": [
    {
     "data": {
      "text/plain": [
       "19235.73246678655"
      ]
     },
     "execution_count": 23,
     "metadata": {},
     "output_type": "execute_result"
    }
   ],
   "source": [
    "train_error"
   ]
  },
  {
   "cell_type": "code",
   "execution_count": 24,
   "metadata": {},
   "outputs": [],
   "source": [
    "# add predictions to dataframe\n",
    "test['predictions'] = test_predictions"
   ]
  },
  {
   "cell_type": "markdown",
   "metadata": {},
   "source": [
    "It's hard to extract some information from just the MSE without having any other results to compare it to. We can have a look at some random samples from the test set to eyeball how close our predictions were to the target. "
   ]
  },
  {
   "cell_type": "code",
   "execution_count": 25,
   "metadata": {},
   "outputs": [
    {
     "data": {
      "text/html": [
       "<div>\n",
       "<style scoped>\n",
       "    .dataframe tbody tr th:only-of-type {\n",
       "        vertical-align: middle;\n",
       "    }\n",
       "\n",
       "    .dataframe tbody tr th {\n",
       "        vertical-align: top;\n",
       "    }\n",
       "\n",
       "    .dataframe thead th {\n",
       "        text-align: right;\n",
       "    }\n",
       "</style>\n",
       "<table border=\"1\" class=\"dataframe\">\n",
       "  <thead>\n",
       "    <tr style=\"text-align: right;\">\n",
       "      <th></th>\n",
       "      <th>cnt</th>\n",
       "      <th>predictions</th>\n",
       "    </tr>\n",
       "  </thead>\n",
       "  <tbody>\n",
       "    <tr>\n",
       "      <td>6928</td>\n",
       "      <td>233</td>\n",
       "      <td>200.909325</td>\n",
       "    </tr>\n",
       "    <tr>\n",
       "      <td>17359</td>\n",
       "      <td>3</td>\n",
       "      <td>1.810955</td>\n",
       "    </tr>\n",
       "    <tr>\n",
       "      <td>1241</td>\n",
       "      <td>89</td>\n",
       "      <td>-24.875866</td>\n",
       "    </tr>\n",
       "    <tr>\n",
       "      <td>7710</td>\n",
       "      <td>90</td>\n",
       "      <td>58.554532</td>\n",
       "    </tr>\n",
       "    <tr>\n",
       "      <td>10395</td>\n",
       "      <td>121</td>\n",
       "      <td>220.397266</td>\n",
       "    </tr>\n",
       "    <tr>\n",
       "      <td>3225</td>\n",
       "      <td>257</td>\n",
       "      <td>128.426129</td>\n",
       "    </tr>\n",
       "    <tr>\n",
       "      <td>13373</td>\n",
       "      <td>186</td>\n",
       "      <td>416.046686</td>\n",
       "    </tr>\n",
       "    <tr>\n",
       "      <td>806</td>\n",
       "      <td>44</td>\n",
       "      <td>-43.073868</td>\n",
       "    </tr>\n",
       "    <tr>\n",
       "      <td>6185</td>\n",
       "      <td>329</td>\n",
       "      <td>189.435403</td>\n",
       "    </tr>\n",
       "    <tr>\n",
       "      <td>2261</td>\n",
       "      <td>17</td>\n",
       "      <td>-50.499171</td>\n",
       "    </tr>\n",
       "    <tr>\n",
       "      <td>7294</td>\n",
       "      <td>355</td>\n",
       "      <td>241.477862</td>\n",
       "    </tr>\n",
       "    <tr>\n",
       "      <td>5093</td>\n",
       "      <td>6</td>\n",
       "      <td>88.284382</td>\n",
       "    </tr>\n",
       "    <tr>\n",
       "      <td>13013</td>\n",
       "      <td>366</td>\n",
       "      <td>465.008312</td>\n",
       "    </tr>\n",
       "    <tr>\n",
       "      <td>5588</td>\n",
       "      <td>408</td>\n",
       "      <td>159.983033</td>\n",
       "    </tr>\n",
       "    <tr>\n",
       "      <td>145</td>\n",
       "      <td>210</td>\n",
       "      <td>139.968866</td>\n",
       "    </tr>\n",
       "    <tr>\n",
       "      <td>775</td>\n",
       "      <td>155</td>\n",
       "      <td>23.351703</td>\n",
       "    </tr>\n",
       "    <tr>\n",
       "      <td>10929</td>\n",
       "      <td>291</td>\n",
       "      <td>306.336695</td>\n",
       "    </tr>\n",
       "    <tr>\n",
       "      <td>12871</td>\n",
       "      <td>270</td>\n",
       "      <td>375.524909</td>\n",
       "    </tr>\n",
       "    <tr>\n",
       "      <td>15191</td>\n",
       "      <td>7</td>\n",
       "      <td>151.040988</td>\n",
       "    </tr>\n",
       "    <tr>\n",
       "      <td>7165</td>\n",
       "      <td>6</td>\n",
       "      <td>-31.269196</td>\n",
       "    </tr>\n",
       "  </tbody>\n",
       "</table>\n",
       "</div>"
      ],
      "text/plain": [
       "       cnt  predictions\n",
       "6928   233   200.909325\n",
       "17359    3     1.810955\n",
       "1241    89   -24.875866\n",
       "7710    90    58.554532\n",
       "10395  121   220.397266\n",
       "3225   257   128.426129\n",
       "13373  186   416.046686\n",
       "806     44   -43.073868\n",
       "6185   329   189.435403\n",
       "2261    17   -50.499171\n",
       "7294   355   241.477862\n",
       "5093     6    88.284382\n",
       "13013  366   465.008312\n",
       "5588   408   159.983033\n",
       "145    210   139.968866\n",
       "775    155    23.351703\n",
       "10929  291   306.336695\n",
       "12871  270   375.524909\n",
       "15191    7   151.040988\n",
       "7165     6   -31.269196"
      ]
     },
     "execution_count": 25,
     "metadata": {},
     "output_type": "execute_result"
    }
   ],
   "source": [
    "test.sample(20)[['cnt', 'predictions']]"
   ]
  },
  {
   "cell_type": "markdown",
   "metadata": {},
   "source": [
    "While some predictions are close to the target, several are far off. Probably our linear model is too simple to capture the complexity of the data. "
   ]
  },
  {
   "cell_type": "markdown",
   "metadata": {},
   "source": [
    "Let's see how well a decision tree algorithm performs instead."
   ]
  },
  {
   "cell_type": "code",
   "execution_count": 26,
   "metadata": {},
   "outputs": [],
   "source": [
    "from sklearn.tree import DecisionTreeRegressor"
   ]
  },
  {
   "cell_type": "code",
   "execution_count": 27,
   "metadata": {},
   "outputs": [],
   "source": [
    "tree = DecisionTreeRegressor()"
   ]
  },
  {
   "cell_type": "code",
   "execution_count": 28,
   "metadata": {},
   "outputs": [
    {
     "data": {
      "text/plain": [
       "DecisionTreeRegressor(criterion='mse', max_depth=None, max_features=None,\n",
       "                      max_leaf_nodes=None, min_impurity_decrease=0.0,\n",
       "                      min_impurity_split=None, min_samples_leaf=1,\n",
       "                      min_samples_split=2, min_weight_fraction_leaf=0.0,\n",
       "                      presort=False, random_state=None, splitter='best')"
      ]
     },
     "execution_count": 28,
     "metadata": {},
     "output_type": "execute_result"
    }
   ],
   "source": [
    "tree.fit(train[features], train[target])"
   ]
  },
  {
   "cell_type": "code",
   "execution_count": 29,
   "metadata": {},
   "outputs": [],
   "source": [
    "test_predictions = tree.predict(test[features])"
   ]
  },
  {
   "cell_type": "code",
   "execution_count": 30,
   "metadata": {},
   "outputs": [],
   "source": [
    "test_error = mean_squared_error(test_predictions, test[target])"
   ]
  },
  {
   "cell_type": "code",
   "execution_count": 31,
   "metadata": {},
   "outputs": [
    {
     "data": {
      "text/plain": [
       "22034.444808048844"
      ]
     },
     "execution_count": 31,
     "metadata": {},
     "output_type": "execute_result"
    }
   ],
   "source": [
    "test_error"
   ]
  },
  {
   "cell_type": "code",
   "execution_count": 32,
   "metadata": {},
   "outputs": [],
   "source": [
    "train_predictions = tree.predict(train[features])"
   ]
  },
  {
   "cell_type": "code",
   "execution_count": 33,
   "metadata": {},
   "outputs": [],
   "source": [
    "train_error = mean_squared_error(train_predictions, train[target])"
   ]
  },
  {
   "cell_type": "code",
   "execution_count": 34,
   "metadata": {},
   "outputs": [
    {
     "data": {
      "text/plain": [
       "318.29441487448753"
      ]
     },
     "execution_count": 34,
     "metadata": {},
     "output_type": "execute_result"
    }
   ],
   "source": [
    "train_error"
   ]
  },
  {
   "cell_type": "markdown",
   "metadata": {},
   "source": [
    "Decision trees can model non-linear relationships in the data. They also tend overfit the training data. That seems to be the case, since there is a huge difference between the error of the training set predictions and that of the test set. "
   ]
  },
  {
   "cell_type": "markdown",
   "metadata": {},
   "source": [
    "Our first decision tree model actually performed worse on the test set than our first linear regression model. We should tweak the hyperparameters a bit to see if we can improve it. Let's start with the minimum samples per leaf parameter. We'll create models with different values for this hyperparameter and see how well they do."
   ]
  },
  {
   "cell_type": "code",
   "execution_count": 35,
   "metadata": {},
   "outputs": [],
   "source": [
    "msl_list = [n for n in range(1, 101)]\n",
    "results = {}"
   ]
  },
  {
   "cell_type": "code",
   "execution_count": 36,
   "metadata": {},
   "outputs": [],
   "source": [
    "for msl in msl_list:\n",
    "    tree = DecisionTreeRegressor(min_samples_leaf=msl)\n",
    "    tree.fit(train[features], train[target])\n",
    "    predictions = tree.predict(test[features])\n",
    "    error = mean_squared_error(predictions, test[target])\n",
    "    results['min_samples_leaf ' + str(msl)] = error"
   ]
  },
  {
   "cell_type": "code",
   "execution_count": 37,
   "metadata": {},
   "outputs": [
    {
     "data": {
      "text/plain": [
       "{'min_samples_leaf 1': 21954.87155175169,\n",
       " 'min_samples_leaf 2': 18749.85872195052,\n",
       " 'min_samples_leaf 3': 17671.235608918312,\n",
       " 'min_samples_leaf 4': 16883.949942354146,\n",
       " 'min_samples_leaf 5': 16090.394591556962,\n",
       " 'min_samples_leaf 6': 15696.961265369786,\n",
       " 'min_samples_leaf 7': 15468.166216073512,\n",
       " 'min_samples_leaf 8': 15411.79497636741,\n",
       " 'min_samples_leaf 9': 15087.03724437417,\n",
       " 'min_samples_leaf 10': 14834.875240379437,\n",
       " 'min_samples_leaf 11': 14651.277024161276,\n",
       " 'min_samples_leaf 12': 14569.724367442079,\n",
       " 'min_samples_leaf 13': 14690.651671179436,\n",
       " 'min_samples_leaf 14': 14717.680866938575,\n",
       " 'min_samples_leaf 15': 14563.453954844776,\n",
       " 'min_samples_leaf 16': 14510.745234329766,\n",
       " 'min_samples_leaf 17': 14542.21474441137,\n",
       " 'min_samples_leaf 18': 14558.030069530012,\n",
       " 'min_samples_leaf 19': 14460.16251345166,\n",
       " 'min_samples_leaf 20': 14346.816884226686,\n",
       " 'min_samples_leaf 21': 14313.482339056027,\n",
       " 'min_samples_leaf 22': 14359.48143461125,\n",
       " 'min_samples_leaf 23': 14222.338359067184,\n",
       " 'min_samples_leaf 24': 14291.357072822206,\n",
       " 'min_samples_leaf 25': 14261.660481264946,\n",
       " 'min_samples_leaf 26': 14260.726164452008,\n",
       " 'min_samples_leaf 27': 14221.750426777277,\n",
       " 'min_samples_leaf 28': 14191.982902265374,\n",
       " 'min_samples_leaf 29': 14150.356428428258,\n",
       " 'min_samples_leaf 30': 14168.194565993334,\n",
       " 'min_samples_leaf 31': 14177.417822265434,\n",
       " 'min_samples_leaf 32': 14111.357310677684,\n",
       " 'min_samples_leaf 33': 14055.715884307963,\n",
       " 'min_samples_leaf 34': 14030.710470062435,\n",
       " 'min_samples_leaf 35': 14013.789313287201,\n",
       " 'min_samples_leaf 36': 14004.157953085189,\n",
       " 'min_samples_leaf 37': 13989.329041905585,\n",
       " 'min_samples_leaf 38': 14038.648901879003,\n",
       " 'min_samples_leaf 39': 14074.494486014926,\n",
       " 'min_samples_leaf 40': 14050.470593108093,\n",
       " 'min_samples_leaf 41': 14013.473484770167,\n",
       " 'min_samples_leaf 42': 13997.749814693487,\n",
       " 'min_samples_leaf 43': 14018.105996381899,\n",
       " 'min_samples_leaf 44': 14019.601936350977,\n",
       " 'min_samples_leaf 45': 14037.46198407189,\n",
       " 'min_samples_leaf 46': 14004.643364440783,\n",
       " 'min_samples_leaf 47': 14059.774000749096,\n",
       " 'min_samples_leaf 48': 14020.634593711628,\n",
       " 'min_samples_leaf 49': 14036.82166101971,\n",
       " 'min_samples_leaf 50': 14072.53081311878,\n",
       " 'min_samples_leaf 51': 14063.78698208312,\n",
       " 'min_samples_leaf 52': 14088.400455096087,\n",
       " 'min_samples_leaf 53': 14121.957446615923,\n",
       " 'min_samples_leaf 54': 14117.055554203784,\n",
       " 'min_samples_leaf 55': 14154.638431862466,\n",
       " 'min_samples_leaf 56': 14152.0418733605,\n",
       " 'min_samples_leaf 57': 14146.085834247924,\n",
       " 'min_samples_leaf 58': 14184.798974714056,\n",
       " 'min_samples_leaf 59': 14198.513310909922,\n",
       " 'min_samples_leaf 60': 14163.153803276735,\n",
       " 'min_samples_leaf 61': 14177.577237420874,\n",
       " 'min_samples_leaf 62': 14126.662908449853,\n",
       " 'min_samples_leaf 63': 14123.381728045453,\n",
       " 'min_samples_leaf 64': 14119.819185768845,\n",
       " 'min_samples_leaf 65': 14054.933255408423,\n",
       " 'min_samples_leaf 66': 14059.704837518302,\n",
       " 'min_samples_leaf 67': 14058.670073934922,\n",
       " 'min_samples_leaf 68': 14067.067525798397,\n",
       " 'min_samples_leaf 69': 14057.425268572475,\n",
       " 'min_samples_leaf 70': 14056.249678923925,\n",
       " 'min_samples_leaf 71': 14025.70074501433,\n",
       " 'min_samples_leaf 72': 14048.613019510381,\n",
       " 'min_samples_leaf 73': 14043.550791258718,\n",
       " 'min_samples_leaf 74': 14003.248666210162,\n",
       " 'min_samples_leaf 75': 14003.248666210162,\n",
       " 'min_samples_leaf 76': 14049.783761734856,\n",
       " 'min_samples_leaf 77': 14074.809697408553,\n",
       " 'min_samples_leaf 78': 14094.374647296829,\n",
       " 'min_samples_leaf 79': 14089.640281903277,\n",
       " 'min_samples_leaf 80': 14095.792455778628,\n",
       " 'min_samples_leaf 81': 14059.478784408095,\n",
       " 'min_samples_leaf 82': 14037.505540818063,\n",
       " 'min_samples_leaf 83': 14022.950319541633,\n",
       " 'min_samples_leaf 84': 14029.87461587957,\n",
       " 'min_samples_leaf 85': 14018.071474110193,\n",
       " 'min_samples_leaf 86': 14033.632692503747,\n",
       " 'min_samples_leaf 87': 14035.530885926735,\n",
       " 'min_samples_leaf 88': 14050.49115559857,\n",
       " 'min_samples_leaf 89': 14052.846561063365,\n",
       " 'min_samples_leaf 90': 14112.647777047732,\n",
       " 'min_samples_leaf 91': 14180.306061132396,\n",
       " 'min_samples_leaf 92': 14078.615987613073,\n",
       " 'min_samples_leaf 93': 14203.480279764199,\n",
       " 'min_samples_leaf 94': 14205.234534277699,\n",
       " 'min_samples_leaf 95': 14175.462157798382,\n",
       " 'min_samples_leaf 96': 14217.957464474288,\n",
       " 'min_samples_leaf 97': 14187.376444923266,\n",
       " 'min_samples_leaf 98': 14260.47611518037,\n",
       " 'min_samples_leaf 99': 14269.195242837548,\n",
       " 'min_samples_leaf 100': 14365.607163273951}"
      ]
     },
     "execution_count": 37,
     "metadata": {},
     "output_type": "execute_result"
    }
   ],
   "source": [
    "results"
   ]
  },
  {
   "cell_type": "code",
   "execution_count": 38,
   "metadata": {},
   "outputs": [],
   "source": [
    "y = list(results.values())"
   ]
  },
  {
   "cell_type": "code",
   "execution_count": 39,
   "metadata": {},
   "outputs": [],
   "source": [
    "x = range(1, 101)"
   ]
  },
  {
   "cell_type": "code",
   "execution_count": 40,
   "metadata": {},
   "outputs": [
    {
     "name": "stdout",
     "output_type": "stream",
     "text": [
      " min_samples_leaf           MSE\n",
      "                1  21954.871552\n",
      "                2  18749.858722\n",
      "                3  17671.235609\n",
      "                4  16883.949942\n",
      "                5  16090.394592\n",
      "                6  15696.961265\n",
      "                7  15468.166216\n",
      "                8  15411.794976\n",
      "                9  15087.037244\n",
      "               10  14834.875240\n",
      "               11  14651.277024\n",
      "               12  14569.724367\n",
      "               13  14690.651671\n",
      "               14  14717.680867\n",
      "               15  14563.453955\n",
      "               16  14510.745234\n",
      "               17  14542.214744\n",
      "               18  14558.030070\n",
      "               19  14460.162513\n",
      "               20  14346.816884\n",
      "               21  14313.482339\n",
      "               22  14359.481435\n",
      "               23  14222.338359\n",
      "               24  14291.357073\n",
      "               25  14261.660481\n",
      "               26  14260.726164\n",
      "               27  14221.750427\n",
      "               28  14191.982902\n",
      "               29  14150.356428\n",
      "               30  14168.194566\n",
      "               31  14177.417822\n",
      "               32  14111.357311\n",
      "               33  14055.715884\n",
      "               34  14030.710470\n",
      "               35  14013.789313\n",
      "               36  14004.157953\n",
      "               37  13989.329042\n",
      "               38  14038.648902\n",
      "               39  14074.494486\n",
      "               40  14050.470593\n",
      "               41  14013.473485\n",
      "               42  13997.749815\n",
      "               43  14018.105996\n",
      "               44  14019.601936\n",
      "               45  14037.461984\n",
      "               46  14004.643364\n",
      "               47  14059.774001\n",
      "               48  14020.634594\n",
      "               49  14036.821661\n",
      "               50  14072.530813\n",
      "               51  14063.786982\n",
      "               52  14088.400455\n",
      "               53  14121.957447\n",
      "               54  14117.055554\n",
      "               55  14154.638432\n",
      "               56  14152.041873\n",
      "               57  14146.085834\n",
      "               58  14184.798975\n",
      "               59  14198.513311\n",
      "               60  14163.153803\n",
      "               61  14177.577237\n",
      "               62  14126.662908\n",
      "               63  14123.381728\n",
      "               64  14119.819186\n",
      "               65  14054.933255\n",
      "               66  14059.704838\n",
      "               67  14058.670074\n",
      "               68  14067.067526\n",
      "               69  14057.425269\n",
      "               70  14056.249679\n",
      "               71  14025.700745\n",
      "               72  14048.613020\n",
      "               73  14043.550791\n",
      "               74  14003.248666\n",
      "               75  14003.248666\n",
      "               76  14049.783762\n",
      "               77  14074.809697\n",
      "               78  14094.374647\n",
      "               79  14089.640282\n",
      "               80  14095.792456\n",
      "               81  14059.478784\n",
      "               82  14037.505541\n",
      "               83  14022.950320\n",
      "               84  14029.874616\n",
      "               85  14018.071474\n",
      "               86  14033.632693\n",
      "               87  14035.530886\n",
      "               88  14050.491156\n",
      "               89  14052.846561\n",
      "               90  14112.647777\n",
      "               91  14180.306061\n",
      "               92  14078.615988\n",
      "               93  14203.480280\n",
      "               94  14205.234534\n",
      "               95  14175.462158\n",
      "               96  14217.957464\n",
      "               97  14187.376445\n",
      "               98  14260.476115\n",
      "               99  14269.195243\n",
      "              100  14365.607163\n"
     ]
    }
   ],
   "source": [
    "print(pd.DataFrame({'min_samples_leaf': x, 'MSE': y}).to_string(index=False))"
   ]
  },
  {
   "cell_type": "code",
   "execution_count": 41,
   "metadata": {},
   "outputs": [
    {
     "data": {
      "text/plain": [
       "Text(0, 14100, 'minimum')"
      ]
     },
     "execution_count": 41,
     "metadata": {},
     "output_type": "execute_result"
    },
    {
     "data": {
      "image/png": "[encoded data removed]",
      "text/plain": [
       "<Figure size 432x288 with 1 Axes>"
      ]
     },
     "metadata": {
      "needs_background": "light"
     },
     "output_type": "display_data"
    }
   ],
   "source": [
    "plt.plot(x, y)\n",
    "plt.xlabel('Minimum samples leaf')\n",
    "plt.ylabel('MSE')\n",
    "plt.xticks(ticks=range(0, 101, 5))\n",
    "plt.axhline(min(y), color='red', linewidth=1)\n",
    "plt.text(0, 14100, \"minimum\", color='red')"
   ]
  },
  {
   "cell_type": "markdown",
   "metadata": {},
   "source": [
    "The performance improves at a fast pace until we reach around 10. Then it keeps improving more slowly until it reaches the mininum at around 35, after which it seems to oscilate a bit up and down."
   ]
  },
  {
   "cell_type": "markdown",
   "metadata": {},
   "source": [
    "However, it's posible we overfit our model to the test data if we use it to tune our hyperparameters. We'll not have a clear idea about how our model would perform with unknown data. "
   ]
  },
  {
   "cell_type": "markdown",
   "metadata": {},
   "source": [
    "In order to solve that problem, we are going to use Kfold validation. "
   ]
  },
  {
   "cell_type": "code",
   "execution_count": 42,
   "metadata": {},
   "outputs": [],
   "source": [
    "kfold_results = {}\n",
    "for msl in msl_list:\n",
    "    kf = KFold(5, shuffle=True, random_state=1)\n",
    "    tree = DecisionTreeRegressor(min_samples_leaf=msl)\n",
    "    mses = cross_val_score(tree, train[features], train[target], scoring='neg_mean_squared_error', cv=kf)\n",
    "    avg_mse = -np.mean(mses)\n",
    "    kfold_results['min_samples_leaf ' + str(msl)] = avg_mse"
   ]
  },
  {
   "cell_type": "code",
   "execution_count": 43,
   "metadata": {},
   "outputs": [
    {
     "data": {
      "text/plain": [
       "{'min_samples_leaf 1': 22444.74497060029,\n",
       " 'min_samples_leaf 2': 19257.42327701419,\n",
       " 'min_samples_leaf 3': 17744.48545420869,\n",
       " 'min_samples_leaf 4': 16779.676938159886,\n",
       " 'min_samples_leaf 5': 15783.41193568517,\n",
       " 'min_samples_leaf 6': 15445.12765371649,\n",
       " 'min_samples_leaf 7': 15050.118866051553,\n",
       " 'min_samples_leaf 8': 14967.791553539224,\n",
       " 'min_samples_leaf 9': 14626.670630018649,\n",
       " 'min_samples_leaf 10': 14285.948668542256,\n",
       " 'min_samples_leaf 11': 14108.51678357562,\n",
       " 'min_samples_leaf 12': 13877.776984929393,\n",
       " 'min_samples_leaf 13': 13912.708484943922,\n",
       " 'min_samples_leaf 14': 13875.490705878392,\n",
       " 'min_samples_leaf 15': 13710.550252437053,\n",
       " 'min_samples_leaf 16': 13732.282748541393,\n",
       " 'min_samples_leaf 17': 13712.612126707676,\n",
       " 'min_samples_leaf 18': 13733.166311009907,\n",
       " 'min_samples_leaf 19': 13644.78752044488,\n",
       " 'min_samples_leaf 20': 13616.321264050188,\n",
       " 'min_samples_leaf 21': 13602.858019750633,\n",
       " 'min_samples_leaf 22': 13602.410411898029,\n",
       " 'min_samples_leaf 23': 13606.29535693851,\n",
       " 'min_samples_leaf 24': 13619.836338915044,\n",
       " 'min_samples_leaf 25': 13572.157688940031,\n",
       " 'min_samples_leaf 26': 13545.099907581793,\n",
       " 'min_samples_leaf 27': 13531.16545085431,\n",
       " 'min_samples_leaf 28': 13563.356326745488,\n",
       " 'min_samples_leaf 29': 13533.160841608784,\n",
       " 'min_samples_leaf 30': 13510.59788306189,\n",
       " 'min_samples_leaf 31': 13505.912779067552,\n",
       " 'min_samples_leaf 32': 13554.835302376374,\n",
       " 'min_samples_leaf 33': 13547.416838755194,\n",
       " 'min_samples_leaf 34': 13529.660794763488,\n",
       " 'min_samples_leaf 35': 13530.492336448258,\n",
       " 'min_samples_leaf 36': 13483.234128299728,\n",
       " 'min_samples_leaf 37': 13380.171465019714,\n",
       " 'min_samples_leaf 38': 13396.046188241013,\n",
       " 'min_samples_leaf 39': 13419.688289859714,\n",
       " 'min_samples_leaf 40': 13425.658582856888,\n",
       " 'min_samples_leaf 41': 13433.799737110612,\n",
       " 'min_samples_leaf 42': 13470.017494796182,\n",
       " 'min_samples_leaf 43': 13467.088112362058,\n",
       " 'min_samples_leaf 44': 13442.383073983365,\n",
       " 'min_samples_leaf 45': 13433.181621209724,\n",
       " 'min_samples_leaf 46': 13468.713521208378,\n",
       " 'min_samples_leaf 47': 13425.319688216263,\n",
       " 'min_samples_leaf 48': 13448.321041002866,\n",
       " 'min_samples_leaf 49': 13471.428333484344,\n",
       " 'min_samples_leaf 50': 13479.113677555473,\n",
       " 'min_samples_leaf 51': 13490.908471400242,\n",
       " 'min_samples_leaf 52': 13486.91283269024,\n",
       " 'min_samples_leaf 53': 13498.756642935496,\n",
       " 'min_samples_leaf 54': 13500.572038671404,\n",
       " 'min_samples_leaf 55': 13484.06769203929,\n",
       " 'min_samples_leaf 56': 13514.633801583748,\n",
       " 'min_samples_leaf 57': 13540.528838438924,\n",
       " 'min_samples_leaf 58': 13532.789072810381,\n",
       " 'min_samples_leaf 59': 13523.420464847255,\n",
       " 'min_samples_leaf 60': 13518.858109279652,\n",
       " 'min_samples_leaf 61': 13528.997170297389,\n",
       " 'min_samples_leaf 62': 13583.651098313936,\n",
       " 'min_samples_leaf 63': 13611.988371797808,\n",
       " 'min_samples_leaf 64': 13651.583879226988,\n",
       " 'min_samples_leaf 65': 13722.451210251844,\n",
       " 'min_samples_leaf 66': 13704.946937071818,\n",
       " 'min_samples_leaf 67': 13709.845447552429,\n",
       " 'min_samples_leaf 68': 13714.9835062429,\n",
       " 'min_samples_leaf 69': 13711.91571133347,\n",
       " 'min_samples_leaf 70': 13735.287619534352,\n",
       " 'min_samples_leaf 71': 13736.152152856306,\n",
       " 'min_samples_leaf 72': 13786.405658094702,\n",
       " 'min_samples_leaf 73': 13766.866453730156,\n",
       " 'min_samples_leaf 74': 13868.863063584742,\n",
       " 'min_samples_leaf 75': 13880.728169277927,\n",
       " 'min_samples_leaf 76': 13886.992995792214,\n",
       " 'min_samples_leaf 77': 13936.734522313225,\n",
       " 'min_samples_leaf 78': 13978.581967648593,\n",
       " 'min_samples_leaf 79': 13994.181823282188,\n",
       " 'min_samples_leaf 80': 13971.96086294769,\n",
       " 'min_samples_leaf 81': 13965.751434983653,\n",
       " 'min_samples_leaf 82': 14017.124115055132,\n",
       " 'min_samples_leaf 83': 14036.879667967596,\n",
       " 'min_samples_leaf 84': 14077.133125354023,\n",
       " 'min_samples_leaf 85': 14067.047129121656,\n",
       " 'min_samples_leaf 86': 14091.428384304152,\n",
       " 'min_samples_leaf 87': 14117.832471562582,\n",
       " 'min_samples_leaf 88': 14100.044901840816,\n",
       " 'min_samples_leaf 89': 14138.437363085603,\n",
       " 'min_samples_leaf 90': 14134.16003524417,\n",
       " 'min_samples_leaf 91': 14181.803015446596,\n",
       " 'min_samples_leaf 92': 14193.34929896908,\n",
       " 'min_samples_leaf 93': 14223.104652679356,\n",
       " 'min_samples_leaf 94': 14255.33467055341,\n",
       " 'min_samples_leaf 95': 14246.4518330519,\n",
       " 'min_samples_leaf 96': 14254.90057243742,\n",
       " 'min_samples_leaf 97': 14292.268526188836,\n",
       " 'min_samples_leaf 98': 14314.217594612444,\n",
       " 'min_samples_leaf 99': 14319.771786262212,\n",
       " 'min_samples_leaf 100': 14312.564751674658}"
      ]
     },
     "execution_count": 43,
     "metadata": {},
     "output_type": "execute_result"
    }
   ],
   "source": [
    "kfold_results"
   ]
  },
  {
   "cell_type": "code",
   "execution_count": 44,
   "metadata": {},
   "outputs": [],
   "source": [
    "y_b = list(kfold_results.values())"
   ]
  },
  {
   "cell_type": "code",
   "execution_count": 45,
   "metadata": {},
   "outputs": [
    {
     "data": {
      "text/plain": [
       "[22444.74497060029,\n",
       " 19257.42327701419,\n",
       " 17744.48545420869,\n",
       " 16779.676938159886,\n",
       " 15783.41193568517,\n",
       " 15445.12765371649,\n",
       " 15050.118866051553,\n",
       " 14967.791553539224,\n",
       " 14626.670630018649,\n",
       " 14285.948668542256,\n",
       " 14108.51678357562,\n",
       " 13877.776984929393,\n",
       " 13912.708484943922,\n",
       " 13875.490705878392,\n",
       " 13710.550252437053,\n",
       " 13732.282748541393,\n",
       " 13712.612126707676,\n",
       " 13733.166311009907,\n",
       " 13644.78752044488,\n",
       " 13616.321264050188,\n",
       " 13602.858019750633,\n",
       " 13602.410411898029,\n",
       " 13606.29535693851,\n",
       " 13619.836338915044,\n",
       " 13572.157688940031,\n",
       " 13545.099907581793,\n",
       " 13531.16545085431,\n",
       " 13563.356326745488,\n",
       " 13533.160841608784,\n",
       " 13510.59788306189,\n",
       " 13505.912779067552,\n",
       " 13554.835302376374,\n",
       " 13547.416838755194,\n",
       " 13529.660794763488,\n",
       " 13530.492336448258,\n",
       " 13483.234128299728,\n",
       " 13380.171465019714,\n",
       " 13396.046188241013,\n",
       " 13419.688289859714,\n",
       " 13425.658582856888,\n",
       " 13433.799737110612,\n",
       " 13470.017494796182,\n",
       " 13467.088112362058,\n",
       " 13442.383073983365,\n",
       " 13433.181621209724,\n",
       " 13468.713521208378,\n",
       " 13425.319688216263,\n",
       " 13448.321041002866,\n",
       " 13471.428333484344,\n",
       " 13479.113677555473,\n",
       " 13490.908471400242,\n",
       " 13486.91283269024,\n",
       " 13498.756642935496,\n",
       " 13500.572038671404,\n",
       " 13484.06769203929,\n",
       " 13514.633801583748,\n",
       " 13540.528838438924,\n",
       " 13532.789072810381,\n",
       " 13523.420464847255,\n",
       " 13518.858109279652,\n",
       " 13528.997170297389,\n",
       " 13583.651098313936,\n",
       " 13611.988371797808,\n",
       " 13651.583879226988,\n",
       " 13722.451210251844,\n",
       " 13704.946937071818,\n",
       " 13709.845447552429,\n",
       " 13714.9835062429,\n",
       " 13711.91571133347,\n",
       " 13735.287619534352,\n",
       " 13736.152152856306,\n",
       " 13786.405658094702,\n",
       " 13766.866453730156,\n",
       " 13868.863063584742,\n",
       " 13880.728169277927,\n",
       " 13886.992995792214,\n",
       " 13936.734522313225,\n",
       " 13978.581967648593,\n",
       " 13994.181823282188,\n",
       " 13971.96086294769,\n",
       " 13965.751434983653,\n",
       " 14017.124115055132,\n",
       " 14036.879667967596,\n",
       " 14077.133125354023,\n",
       " 14067.047129121656,\n",
       " 14091.428384304152,\n",
       " 14117.832471562582,\n",
       " 14100.044901840816,\n",
       " 14138.437363085603,\n",
       " 14134.16003524417,\n",
       " 14181.803015446596,\n",
       " 14193.34929896908,\n",
       " 14223.104652679356,\n",
       " 14255.33467055341,\n",
       " 14246.4518330519,\n",
       " 14254.90057243742,\n",
       " 14292.268526188836,\n",
       " 14314.217594612444,\n",
       " 14319.771786262212,\n",
       " 14312.564751674658]"
      ]
     },
     "execution_count": 45,
     "metadata": {},
     "output_type": "execute_result"
    }
   ],
   "source": [
    "y_b"
   ]
  },
  {
   "cell_type": "code",
   "execution_count": 46,
   "metadata": {},
   "outputs": [
    {
     "data": {
      "text/plain": [
       "([<matplotlib.axis.XTick at 0x254ab4647c8>,\n",
       "  <matplotlib.axis.XTick at 0x254ab3c5c48>,\n",
       "  <matplotlib.axis.XTick at 0x254ab4a4d08>,\n",
       "  <matplotlib.axis.XTick at 0x254ab4d4108>,\n",
       "  <matplotlib.axis.XTick at 0x254ab4d4a08>,\n",
       "  <matplotlib.axis.XTick at 0x254ab4d8508>,\n",
       "  <matplotlib.axis.XTick at 0x254ab4dc0c8>,\n",
       "  <matplotlib.axis.XTick at 0x254ab4dcb08>,\n",
       "  <matplotlib.axis.XTick at 0x254ab4e0608>,\n",
       "  <matplotlib.axis.XTick at 0x254ab4e3188>,\n",
       "  <matplotlib.axis.XTick at 0x254ab4e3b88>,\n",
       "  <matplotlib.axis.XTick at 0x254ab4e0488>,\n",
       "  <matplotlib.axis.XTick at 0x254ab4e83c8>,\n",
       "  <matplotlib.axis.XTick at 0x254ab4e8a48>,\n",
       "  <matplotlib.axis.XTick at 0x254ab4ec3c8>,\n",
       "  <matplotlib.axis.XTick at 0x254ab4f00c8>,\n",
       "  <matplotlib.axis.XTick at 0x254ab4f0ac8>,\n",
       "  <matplotlib.axis.XTick at 0x254ab4f35c8>,\n",
       "  <matplotlib.axis.XTick at 0x254ab4f7148>,\n",
       "  <matplotlib.axis.XTick at 0x254ab4f7b88>,\n",
       "  <matplotlib.axis.XTick at 0x254ab4f0948>],\n",
       " <a list of 21 Text xticklabel objects>)"
      ]
     },
     "execution_count": 46,
     "metadata": {},
     "output_type": "execute_result"
    },
    {
     "data": {
      "image/png": "[encoded data removed]",
      "text/plain": [
       "<Figure size 432x288 with 1 Axes>"
      ]
     },
     "metadata": {
      "needs_background": "light"
     },
     "output_type": "display_data"
    }
   ],
   "source": [
    "plt.plot(x, y, label='no kfold')\n",
    "plt.plot(x, y_b, label='kfold')\n",
    "plt.legend()\n",
    "plt.xlabel('Minimum samples leaf')\n",
    "plt.ylabel('MSE')\n",
    "plt.xticks(ticks=range(0, 101, 5))\n"
   ]
  },
  {
   "cell_type": "markdown",
   "metadata": {},
   "source": [
    "Now we choose the best value for minimum samples leaf, train a model with all the training data and finally use it on the test data. "
   ]
  },
  {
   "cell_type": "code",
   "execution_count": 47,
   "metadata": {},
   "outputs": [
    {
     "name": "stdout",
     "output_type": "stream",
     "text": [
      "14004.157953085189\n"
     ]
    }
   ],
   "source": [
    "tree = DecisionTreeRegressor(min_samples_leaf=36)\n",
    "tree.fit(train[features], train[target])\n",
    "predictions = tree.predict(test[features])\n",
    "error = mean_squared_error(predictions, test[target])\n",
    "print(error)"
   ]
  },
  {
   "cell_type": "markdown",
   "metadata": {},
   "source": [
    "Not bad!! We've definitely improved. Now let's check the `max_depth` hyperparameter."
   ]
  },
  {
   "cell_type": "code",
   "execution_count": 48,
   "metadata": {},
   "outputs": [],
   "source": [
    "depths = list(range(4, 21))"
   ]
  },
  {
   "cell_type": "code",
   "execution_count": 49,
   "metadata": {},
   "outputs": [
    {
     "data": {
      "text/plain": [
       "[4, 5, 6, 7, 8, 9, 10, 11, 12, 13, 14, 15, 16, 17, 18, 19, 20]"
      ]
     },
     "execution_count": 49,
     "metadata": {},
     "output_type": "execute_result"
    }
   ],
   "source": [
    "depths"
   ]
  },
  {
   "cell_type": "code",
   "execution_count": 50,
   "metadata": {},
   "outputs": [],
   "source": [
    "max_depth_results = {}\n",
    "for depth in depths:\n",
    "    kf = KFold(5, shuffle=True, random_state=1)\n",
    "    tree = DecisionTreeRegressor(min_samples_leaf=36, max_depth=depth)\n",
    "    mses = cross_val_score(tree, train[features], train[target], scoring='neg_mean_squared_error', cv=kf)\n",
    "    avg_mse = -np.mean(mses)\n",
    "    max_depth_results['max_depth ' + str(depth)] = avg_mse"
   ]
  },
  {
   "cell_type": "code",
   "execution_count": 51,
   "metadata": {},
   "outputs": [
    {
     "data": {
      "text/plain": [
       "{'max_depth 4': 16254.511496862742,\n",
       " 'max_depth 5': 15473.69568413596,\n",
       " 'max_depth 6': 14814.71107924089,\n",
       " 'max_depth 7': 14365.347372893895,\n",
       " 'max_depth 8': 13869.940117810484,\n",
       " 'max_depth 9': 13594.00570286041,\n",
       " 'max_depth 10': 13454.073779670794,\n",
       " 'max_depth 11': 13467.674543890807,\n",
       " 'max_depth 12': 13420.859795121305,\n",
       " 'max_depth 13': 13457.314872597757,\n",
       " 'max_depth 14': 13478.908692333542,\n",
       " 'max_depth 15': 13483.245302065308,\n",
       " 'max_depth 16': 13483.234128299728,\n",
       " 'max_depth 17': 13483.245302065308,\n",
       " 'max_depth 18': 13483.234128299728,\n",
       " 'max_depth 19': 13483.245302065308,\n",
       " 'max_depth 20': 13483.245302065308}"
      ]
     },
     "execution_count": 51,
     "metadata": {},
     "output_type": "execute_result"
    }
   ],
   "source": [
    "max_depth_results"
   ]
  },
  {
   "cell_type": "markdown",
   "metadata": {},
   "source": [
    "12 seems a good number! Let's try it now on our test set. "
   ]
  },
  {
   "cell_type": "code",
   "execution_count": 52,
   "metadata": {},
   "outputs": [
    {
     "name": "stdout",
     "output_type": "stream",
     "text": [
      "13913.913835190773\n"
     ]
    }
   ],
   "source": [
    "tree = DecisionTreeRegressor(min_samples_leaf=36, max_depth=12)\n",
    "tree.fit(train[features], train[target])\n",
    "predictions = tree.predict(test[features])\n",
    "error = mean_squared_error(predictions, test[target])\n",
    "print(error)"
   ]
  },
  {
   "cell_type": "markdown",
   "metadata": {},
   "source": [
    "That's a bit better than what we got with just the `min_samples_leaf` parameter optimized.  Our next step is to bring a bunch of decision tree together and create what we call a random forest model, which like decision trees can capture complex dynamics in the data and at the same time manages to avoid the overfitting of single decision trees. "
   ]
  },
  {
   "cell_type": "code",
   "execution_count": 53,
   "metadata": {},
   "outputs": [
    {
     "data": {
      "text/plain": [
       "13208.137235285583"
      ]
     },
     "execution_count": 53,
     "metadata": {},
     "output_type": "execute_result"
    }
   ],
   "source": [
    "from sklearn.ensemble import RandomForestRegressor\n",
    "\n",
    "clf = RandomForestRegressor(n_estimators=50, random_state=1, min_samples_leaf=36, max_depth=12)\n",
    "clf.fit(train[features], train[target])\n",
    "predictions = clf.predict(test[features])\n",
    "error = mean_squared_error(predictions, test[target])\n",
    "error\n"
   ]
  },
  {
   "cell_type": "markdown",
   "metadata": {},
   "source": [
    "It seems we managed to improve even more with the random forest algorithm. We could keep tweaking it but let's leave it here for now. "
   ]
  },
  {
   "cell_type": "markdown",
   "metadata": {},
   "source": [
    "To finish let's have a look at the predictions and the real numbers from the test set. We'll take a random sample of 50 from the set."
   ]
  },
  {
   "cell_type": "code",
   "execution_count": 54,
   "metadata": {},
   "outputs": [],
   "source": [
    "test['prediction_rand'] = predictions"
   ]
  },
  {
   "cell_type": "code",
   "execution_count": 55,
   "metadata": {},
   "outputs": [
    {
     "name": "stdout",
     "output_type": "stream",
     "text": [
      " cnt  prediction_rand\n",
      " 180       160.069598\n",
      "  17         7.205029\n",
      " 258       238.047151\n",
      "  84        68.757190\n",
      "  39        75.758349\n",
      "  20        17.713050\n",
      " 213       181.527998\n",
      "   7         9.517393\n",
      " 155       204.664975\n",
      " 255       138.191394\n",
      " 322       201.410920\n",
      " 304       314.037253\n",
      "  33        20.879333\n",
      "  28        17.822840\n",
      " 252       101.320450\n",
      " 376       274.908723\n",
      " 104       138.933609\n",
      " 579       513.464148\n",
      " 359       362.405265\n",
      " 131       405.206194\n",
      " 263       408.834138\n",
      " 431       262.038759\n",
      "  10        19.333948\n",
      " 226       196.139166\n",
      "  26        25.945419\n",
      " 409       309.555335\n",
      " 145       189.497542\n",
      "  59       208.926737\n",
      " 243       363.172636\n",
      " 604       264.644658\n",
      " 290       403.754598\n",
      "   5         5.732850\n",
      "  65       217.080783\n",
      "  40        18.494338\n",
      " 338       450.280020\n",
      "  24        11.521443\n",
      " 455       396.496520\n",
      "  12         8.930308\n",
      " 251       303.060139\n",
      " 231       297.111089\n",
      "   6        16.185883\n",
      " 187       264.795110\n",
      "  63        90.877335\n",
      " 231       259.359142\n",
      " 159       168.897410\n",
      "  78        52.398996\n",
      "  95        85.336381\n",
      " 111        78.692735\n",
      "   5         5.372762\n",
      " 229       279.296547\n"
     ]
    }
   ],
   "source": [
    "print(test.sample(50)[['cnt', 'prediction_rand']].to_string(index=False))"
   ]
  },
  {
   "cell_type": "markdown",
   "metadata": {},
   "source": [
    "Not so bad. Although our model is far from perfect, we can see it manages to capture some of the underlying dynamics of the data. There are several things we could do in order to keep improving our predictive power, like feature engineering and model tuning, and those changes will be worked on in the future."
   ]
  },
  {
   "cell_type": "code",
   "execution_count": null,
   "metadata": {},
   "outputs": [],
   "source": []
  }
 ],
 "metadata": {
  "kernelspec": {
   "display_name": "Python 3",
   "language": "python",
   "name": "python3"
  },
  "language_info": {
   "codemirror_mode": {
    "name": "ipython",
    "version": 3
   },
   "file_extension": ".py",
   "mimetype": "text/x-python",
   "name": "python",
   "nbconvert_exporter": "python",
   "pygments_lexer": "ipython3",
   "version": "3.7.4"
  }
 },
 "nbformat": 4,
 "nbformat_minor": 1
}
